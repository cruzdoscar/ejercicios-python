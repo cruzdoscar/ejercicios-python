{
 "cells": [
  {
   "cell_type": "markdown",
   "id": "1d75511a-9e16-4ecd-b029-07c641d900fa",
   "metadata": {},
   "source": [
    "# Analizador de la Cadena de Suministro de un Concesionario de Autos\n",
    "Eres un analista de datos en un concesionario de autos. El gerente te ha proporcionado una lista desordenada de transacciones de compra de vehículos de diferentes proveedores. Necesita que generes un reporte consolidado que le dé una visión general del inventario.\n",
    "\n",
    "Aquí está la lista de transacciones. Cada elemento es una tupla con los detalles de una transacción: `(ID, fecha, proveedor, marca, modelo, precio, cantidad)`."
   ]
  },
  {
   "cell_type": "code",
   "execution_count": 5,
   "id": "1556d202-8430-4940-8698-9222782f8df4",
   "metadata": {},
   "outputs": [],
   "source": [
    "transacciones = [\n",
    "    ('T-001', '2023-01-15', 'Proveedor A', 'TOYOTA', 'Corolla', 25000, 5),\n",
    "    ('T-002', '2023-01-16', 'Proveedor B', 'HONDA', 'Civic', 27000, 3),\n",
    "    ('T-003', '2023-01-17', 'Proveedor C', 'FORD', 'Mustang', 45000, 2),\n",
    "    ('T-004', '2023-01-18', 'Proveedor A', 'TOYOTA', 'Rav4', 35000, 4),\n",
    "    ('T-005', '2023-01-19', 'Proveedor B', 'HONDA', 'CRV', 30000, 6),\n",
    "    ('T-006', '2023-01-20', 'Proveedor C', 'FORD', 'Focus', 22000, 8),\n",
    "    ('T-007', '2023-01-21', 'Proveedor A', 'TOYOTA', 'Corolla', 25500, 2),\n",
    "    ('T-008', '2023-01-22', 'Proveedor D', 'NISSAN', 'Titan', 42000, 3),\n",
    "    ('T-009', '2023-01-23', 'Proveedor D', 'NISSAN', 'Sentra', 23000, 7),\n",
    "    ('T-010', '2023-01-24', 'Proveedor B', 'HONDA', 'Civic', 27500, 5)\n",
    "]"
   ]
  },
  {
   "cell_type": "markdown",
   "id": "4d76e9f1-e132-451b-bf21-8f4b168c78a6",
   "metadata": {},
   "source": [
    "# Tu tarea es la siguiente:\n",
    "\n",
    "## 1. Función de Consolidación `(consolidar_inventario)`:\n",
    "\n",
    "- Crea una función que reciba la lista transacciones como argumento.\n",
    "\n",
    "- La función debe iterar sobre la lista y consolidar los datos por proveedor.\n",
    "\n",
    "- Limpieza de datos: Asegúrate de que los nombres de los proveedores estén en minúsculas y sin espacios adicionales.\n",
    "\n",
    "- Acumulación de datos: La función debe devolver un diccionario. La clave será el nombre del proveedor (limpio), y el valor será otro diccionario que contenga:\n",
    "\n",
    "    - `transacciones_totales`: El número total de transacciones con ese proveedor.\n",
    "\n",
    "    - `valor_total_inventario`: El valor monetario total de los vehículos comprados a ese proveedor."
   ]
  },
  {
   "cell_type": "code",
   "execution_count": 50,
   "id": "ba55c63b-df35-4518-a36f-a237beffbc64",
   "metadata": {},
   "outputs": [],
   "source": [
    "def consolidar_inventario(reporte):\n",
    "    reporte_proveedores = {}\n",
    "    for transaccion in reporte:\n",
    "        id = transaccion[0]\n",
    "        fecha = transaccion[1]\n",
    "        proveedor = transaccion[2].lower().strip().replace(' ', '_')\n",
    "        marca = transaccion[3]\n",
    "        modelo = transaccion[4]\n",
    "        precio = transaccion[5]\n",
    "        cantidad = transaccion[6]\n",
    "        total = precio * cantidad\n",
    "        if proveedor in reporte_proveedores:\n",
    "            reporte_proveedores[proveedor]['transacciones_totales'] += 1\n",
    "            reporte_proveedores[proveedor]['valor_total_inventario'] += total\n",
    "        else:\n",
    "            reporte_proveedores[proveedor] = {'transacciones_totales': 1, 'valor_total_inventario': total}\n",
    "    return reporte_proveedores     "
   ]
  },
  {
   "cell_type": "markdown",
   "id": "8d2eceec-2c33-4091-a2dc-20adeb23ef66",
   "metadata": {},
   "source": [
    "## 2. Función de Reporte `(generar_reporte)`:\n",
    "\n",
    "- Crea una segunda función que reciba el diccionario consolidado del paso 1.\n",
    "\n",
    "- Dentro de esta función, realiza los siguientes análisis y utiliza `f-strings` y caracteres de escape (`\\n`) para imprimir el reporte final.\n",
    "\n",
    "    - a) Gasto por Proveedor: Imprime el valor total del inventario comprado a cada proveedor.\n",
    "\n",
    "    - b) Mejor Proveedor: Identifica y muestra cuál fue el proveedor con el mayor gasto total.\n",
    "\n",
    "    - c) Conteo de Modelos (BONUS): Utiliza un bucle anidado para contar cuántos autos de cada marca se compraron. Almacena estos resultados en un diccionario y luego imprímelos."
   ]
  },
  {
   "cell_type": "code",
   "execution_count": 30,
   "id": "f24c79e3-96dc-4ecd-b5f5-bb05e7a65fb3",
   "metadata": {},
   "outputs": [],
   "source": [
    "def generar_reporte(inventario, transacciones):\n",
    "    \n",
    "    venta_por_modelo = {}\n",
    "    mayor_gasto = 0\n",
    "    mejor_proveedor = \"\"\n",
    "    \n",
    "    print('-'* 50)\n",
    "    print('Valor total de inventario por proveedor:')\n",
    "    for proveedor, informacion in inventario.items():\n",
    "        print(f'{proveedor}: ${informacion['valor_total_inventario']:,.2f}')\n",
    "        if informacion['valor_total_inventario'] > mayor_gasto:\n",
    "            mayor_gasto = informacion['valor_total_inventario']\n",
    "            mejor_proveedor = proveedor\n",
    "    print('-'* 50)\n",
    "    print('Nuestro mejor proveedor es:')\n",
    "    print(f\"**{mejor_proveedor.title().replace('_', ' ')}** con un gasto total de: ${mayor_gasto:,.2f}\")\n",
    "    print(\"-\" * 50)\n",
    "\n",
    "    for transaccion in transacciones:\n",
    "        if transaccion[3] in venta_por_modelo:\n",
    "            venta_por_modelo[transaccion[3]] += 1\n",
    "        else:\n",
    "            venta_por_modelo[transaccion[3]] = 1\n",
    "    print(\"Unidades vendidas por Modelo:\")\n",
    "    for modelo, unidades in venta_por_modelo.items():\n",
    "        print(f\"{modelo}: {unidades} unidades\")\n",
    "    print(\"-\" * 50)"
   ]
  },
  {
   "cell_type": "markdown",
   "id": "6113e8a3-cec5-4d77-9a38-75e96d67a921",
   "metadata": {},
   "source": [
    "## 3. Ejecución:\n",
    "\n",
    "- Llama a la primera función (`consolidar_inventario`) para obtener el diccionario consolidado.\n",
    "\n",
    "- Pasa el resultado a la segunda función (`generar_reporte`) para que imprima el reporte final.\n",
    "\n",
    "Este ejercicio es una excelente prueba de tu habilidad para procesar datos, usar funciones y aplicar lógica de acumulación. ¡No hay errores en el código! Confío en que puedes resolverlo por tu cuenta.\n",
    "\n",
    "¡Mucha suerte!"
   ]
  },
  {
   "cell_type": "code",
   "execution_count": 51,
   "id": "9cf21416-e0a8-4e9b-9c9a-10a8da9437be",
   "metadata": {},
   "outputs": [
    {
     "data": {
      "text/plain": [
       "{'proveedor_a': {'transacciones_totales': 3, 'valor_total_inventario': 316000},\n",
       " 'proveedor_b': {'transacciones_totales': 3, 'valor_total_inventario': 398500},\n",
       " 'proveedor_c': {'transacciones_totales': 2, 'valor_total_inventario': 266000},\n",
       " 'proveedor_d': {'transacciones_totales': 2, 'valor_total_inventario': 287000}}"
      ]
     },
     "execution_count": 51,
     "metadata": {},
     "output_type": "execute_result"
    }
   ],
   "source": [
    "inventario = consolidar_inventario(transacciones)\n",
    "inventario"
   ]
  },
  {
   "cell_type": "code",
   "execution_count": 52,
   "id": "4afd7297-617f-413a-be4e-3bc5da06bd86",
   "metadata": {},
   "outputs": [
    {
     "name": "stdout",
     "output_type": "stream",
     "text": [
      "--------------------------------------------------\n",
      "Valor total de inventario por proveedor:\n",
      "proveedor_a: $316,000.00\n",
      "proveedor_b: $398,500.00\n",
      "proveedor_c: $266,000.00\n",
      "proveedor_d: $287,000.00\n",
      "--------------------------------------------------\n",
      "Nuestro mejor proveedor es:\n",
      "**Proveedor B** con un gasto total de: $398,500.00\n",
      "--------------------------------------------------\n",
      "Unidades vendidas por Modelo:\n",
      "TOYOTA: 3 unidades\n",
      "HONDA: 3 unidades\n",
      "FORD: 2 unidades\n",
      "NISSAN: 2 unidades\n",
      "--------------------------------------------------\n"
     ]
    }
   ],
   "source": [
    "generar_reporte(inventario, transacciones)"
   ]
  },
  {
   "cell_type": "code",
   "execution_count": null,
   "id": "82a6c472-a087-4cf0-97b4-a47fed547947",
   "metadata": {},
   "outputs": [],
   "source": []
  }
 ],
 "metadata": {
  "kernelspec": {
   "display_name": "Python 3 (ipykernel)",
   "language": "python",
   "name": "python3"
  },
  "language_info": {
   "codemirror_mode": {
    "name": "ipython",
    "version": 3
   },
   "file_extension": ".py",
   "mimetype": "text/x-python",
   "name": "python",
   "nbconvert_exporter": "python",
   "pygments_lexer": "ipython3",
   "version": "3.13.5"
  }
 },
 "nbformat": 4,
 "nbformat_minor": 5
}
