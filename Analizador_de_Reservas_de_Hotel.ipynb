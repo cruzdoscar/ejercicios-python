{
 "cells": [
  {
   "cell_type": "markdown",
   "id": "3e09d91e-d56f-4601-94dd-ec8a40c61919",
   "metadata": {},
   "source": [
    "# Analizador de Reservas de Hotel\n",
    "\n",
    "Eres un analista de datos en un hotel de lujo en Cancún. El gerente te ha dado un archivo de registro de reservas desorganizado y necesita que generes un reporte con información clave.\n",
    "\n",
    "Aquí está la lista de reservas. Cada elemento es una tupla con los detalles de una reserva: `(ID, nombre, contacto, noches, tipo_habitacion, costo_total)`."
   ]
  },
  {
   "cell_type": "code",
   "execution_count": 6,
   "id": "3d316fd2-26de-4ff3-aab8-a3e017dd63a7",
   "metadata": {},
   "outputs": [],
   "source": [
    "reservas = [\n",
    "    ('R-1001', 'JUAN PEREZ', 'juan@email.com', 3, 'SUITE', 1500),\n",
    "    ('R-1002', 'ANA LOPEZ', 'ANA@EMAIL.COM', 2, 'estandar', 400),\n",
    "    ('R-1003', 'Carlos Gomez', 'carlos@email.com', 5, 'SUITE', 2500),\n",
    "    ('R-1004', 'maria Rodriguez', 'MARIA@EMAIL.COM', 1, 'estandar', 200),\n",
    "    ('R-1005', 'Jose hernandez', 'jose@email.com', 4, 'DELUXE', 1200),\n",
    "    ('R-1006', 'LAURA FERNANDEZ', 'laura@email.com', 2, 'deluxe', 600),\n",
    "    ('R-1007', 'Pedro sanchez', 'PEDRO@EMAIL.COM', 6, 'suite', 3000),\n",
    "    ('R-1008', 'JUAN PEREZ', 'JUAN@EMAIL.COM', 3, 'ESTANDAR', 600)\n",
    "]"
   ]
  },
  {
   "cell_type": "markdown",
   "id": "8d3bd4c3-103f-40f7-81cd-d0fb6d64635e",
   "metadata": {},
   "source": [
    "# Tu tarea es la siguiente:\n",
    "\n",
    "## 1. Limpieza y Consolidación de Datos:\n",
    "\n",
    "1. Crea una función llamada `procesar_reservas` que reciba la lista `reservas` como argumento.\n",
    "\n",
    "2. Esta función debe iterar sobre la lista y hacer lo siguiente:\n",
    "\n",
    "    a. Limpia el nombre del cliente: usa `.lower()` y `.strip()` para estandarizarlo (por ejemplo, \"JUAN PEREZ\" debe ser \"juan perez\").\n",
    "\n",
    "    b. Limpia el tipo de habitación: usa `.lower()` para que todos los tipos sean minúsculas.\n",
    "\n",
    "    c. Consolida los datos por cliente: Tu función debe devolver un diccionario. La clave será el nombre del cliente (limpio) y el valor será una lista de diccionarios, donde cada diccionario representa una de sus reservas.\n",
    "\n",
    "    d. Si un cliente tiene varias reservas (como Juan Perez), su lista debe contener todos sus registros.\n",
    "\n",
    "El diccionario final debe tener una estructura similar a esta:\n",
    "\n",
    "```python\n",
    "{\n",
    "    'juan perez': [\n",
    "        {'id': 'R-1001', 'tipo_habitacion': 'suite', 'noches': 3, 'costo_total': 1500},\n",
    "        {'id': 'R-1008', 'tipo_habitacion': 'estandar', 'noches': 3, 'costo_total': 600}\n",
    "    ],\n",
    "    'ana lopez': [\n",
    "        {'id': 'R-1002', 'tipo_habitacion': 'estandar', 'noches': 2, 'costo_total': 400}\n",
    "    ],\n",
    "    # ... y así sucesivamente\n",
    "}\n",
    "```"
   ]
  },
  {
   "cell_type": "code",
   "execution_count": 49,
   "id": "25afe160-6945-4650-b6a1-8eedfec5d77d",
   "metadata": {},
   "outputs": [
    {
     "name": "stdout",
     "output_type": "stream",
     "text": [
      "{'juan perez': [{'id': 'R-1001', 'tipo_habitacion': 'suite', 'noches': 3, 'costo_total': 1500}, {'id': 'R-1008', 'tipo_habitacion': 'estandar', 'noches': 3, 'costo_total': 600}], 'ana lopez': [{'id': 'R-1002', 'tipo_habitacion': 'estandar', 'noches': 2, 'costo_total': 400}], 'carlos gomez': [{'id': 'R-1003', 'tipo_habitacion': 'suite', 'noches': 5, 'costo_total': 2500}], 'maria rodriguez': [{'id': 'R-1004', 'tipo_habitacion': 'estandar', 'noches': 1, 'costo_total': 200}], 'jose hernandez': [{'id': 'R-1005', 'tipo_habitacion': 'deluxe', 'noches': 4, 'costo_total': 1200}], 'laura fernandez': [{'id': 'R-1006', 'tipo_habitacion': 'deluxe', 'noches': 2, 'costo_total': 600}], 'pedro sanchez': [{'id': 'R-1007', 'tipo_habitacion': 'suite', 'noches': 6, 'costo_total': 3000}]}\n"
     ]
    }
   ],
   "source": [
    "def procesar_reservas(data):\n",
    "    report = {}\n",
    "\n",
    "    for movimiento in data:\n",
    "        id = movimiento[0]\n",
    "        name = movimiento[1].lower().strip()\n",
    "        suite = movimiento[-2].lower()\n",
    "        noches = movimiento[-3]\n",
    "        costo = movimiento[-1]\n",
    "        reserva = {'id': id, 'tipo_habitacion': suite, 'noches': noches, 'costo_total': costo}\n",
    "        if name in report:\n",
    "            report[name].append(reserva)\n",
    "        else:\n",
    "            report[name] = [reserva]\n",
    "        \n",
    "    return report\n",
    "reservas_procesadas = procesar_reservas(reservas)\n",
    "print(reservas_procesadas)"
   ]
  },
  {
   "cell_type": "markdown",
   "id": "eee0c93f-1c49-459b-beb9-2865e17d96b4",
   "metadata": {},
   "source": [
    "## 2. Generación de Reporte:\n",
    "\n",
    "1. Crea una segunda función llamada `generar_reporte` que reciba el diccionario de reservas procesado.\n",
    "\n",
    "2. Dentro de esta función, realiza los siguientes análisis y utiliza **f-strings** con **caracteres de escape (`\\n`)** para imprimir el reporte.\n",
    "\n",
    "**a) Ingresos Totales por Tipo de Habitación:**\n",
    "\n",
    "- Calcula el ingreso total para cada tipo de habitación (`estandar`, `deluxe`, `suite`).\n",
    "\n",
    "- Almacena los resultados en un diccionario y luego imprímelos.\n",
    "\n",
    "**b) Clientes VIP:**\n",
    "\n",
    "- Identifica al cliente que tiene el mayor gasto total.\n",
    "\n",
    "- Imprime el nombre de este cliente y el total que ha gastado.\n",
    "\n",
    "**c) Reservas de Último Minuto (BONUS):**\n",
    "\n",
    "- Filtrar: Identifica y lista los IDs de las reservas que son de una sola noche.\n",
    "\n",
    "- Imprime esta lista."
   ]
  },
  {
   "cell_type": "code",
   "execution_count": 1,
   "id": "bbc2f7f6-57ad-47d5-bd63-3357f7008242",
   "metadata": {},
   "outputs": [],
   "source": [
    "def generar_reporte(reservas_procesadas):\n",
    "    \n",
    "    # a) Ingresos Totales por Tipo de Habitación\n",
    "    ingresos_totales_categoria = {'estandar': 0, 'deluxe': 0, 'suite': 0}\n",
    "    \n",
    "    # b) Identificación del Cliente VIP\n",
    "    gasto_por_cliente = {}\n",
    "    \n",
    "    # c) Reservas de Último Minuto\n",
    "    reservas_ultimo_minuto = []\n",
    "\n",
    "    # Bucle principal para recolectar toda la información\n",
    "    for cliente, historial_cliente in reservas_procesadas.items():\n",
    "        gasto_total_cliente = 0\n",
    "        for reserva in historial_cliente:\n",
    "            # Acumular ingresos por categoría\n",
    "            ingresos_totales_categoria[reserva['tipo_habitacion']] += reserva['costo_total']\n",
    "            # Sumar gasto por cliente\n",
    "            gasto_total_cliente += reserva['costo_total']\n",
    "            # Revisar reservas de último minuto\n",
    "            if reserva['noches'] == 1:\n",
    "                reservas_ultimo_minuto.append(reserva['id'])\n",
    "        gasto_por_cliente[cliente] = gasto_total_cliente\n",
    "        \n",
    "    # Ahora, ya fuera del bucle, generamos el reporte\n",
    "    \n",
    "    # Ingresos Totales por Tipo de Habitación\n",
    "    print(\"-\" * 50)\n",
    "    print(\"Ingresos Totales por Categoria:\")\n",
    "    print(f\"Estandar: ${ingresos_totales_categoria['estandar']}\")\n",
    "    print(f\"Deluxe: ${ingresos_totales_categoria['deluxe']}\")\n",
    "    print(f\"Suite: ${ingresos_totales_categoria['suite']}\")\n",
    "    print(\"-\" * 50)\n",
    "    \n",
    "    # Identificación del Cliente VIP\n",
    "    mayor_gasto = 0\n",
    "    cliente_vip = \"\"\n",
    "    for cliente, gasto in gasto_por_cliente.items():\n",
    "        if gasto > mayor_gasto:\n",
    "            mayor_gasto = gasto\n",
    "            cliente_vip = cliente\n",
    "    print('Nuestro cliente VIP es:')\n",
    "    print(f\"**{cliente_vip}** con un gasto total de: ${mayor_gasto}\")\n",
    "    print(\"-\" * 50)\n",
    "\n",
    "    # Reservas de Último Minuto\n",
    "    print(\"Reservas de último minuto (1 noche):\")\n",
    "    if reservas_ultimo_minuto:\n",
    "        for reserva_id in reservas_ultimo_minuto:\n",
    "            print(reserva_id)\n",
    "    else:\n",
    "        print(\"No hay reservas de último minuto.\")\n",
    "    print(\"-\" * 50)"
   ]
  },
  {
   "cell_type": "markdown",
   "id": "dc6f82ca-1cb5-430a-a1ad-ba07a930b2a1",
   "metadata": {},
   "source": [
    "## 3. Ejecución:\n",
    "\n",
    "- Llama a ambas funciones para generar y mostrar el reporte final.\n",
    "\n",
    "Este desafío lo tiene todo: listas y diccionarios anidados, bucles for, funciones, y operadores lógicos para filtrar los datos. Es una prueba completa de tus habilidades como analista de datos.\n",
    "\n",
    "¡Tómate tu tiempo y demuéstrame todo lo que has aprendido!"
   ]
  },
  {
   "cell_type": "code",
   "execution_count": 58,
   "id": "cdb74253-c94f-4bd8-91af-02c2125c7bc4",
   "metadata": {},
   "outputs": [
    {
     "name": "stdout",
     "output_type": "stream",
     "text": [
      "--------------------------------------------------\n",
      "Ingresos Totales por Categoria:\n",
      "Estandar: $1200\n",
      "Deluxe: $1800\n",
      "Suite: $7000\n",
      "--------------------------------------------------\n",
      "Nuestro cliente VIP es:\n",
      "**pedro sanchez** con un gasto total de: $3000\n",
      "--------------------------------------------------\n",
      "Reservas de último minuto (1 noche):\n",
      "R-1004\n",
      "--------------------------------------------------\n"
     ]
    }
   ],
   "source": [
    "generar_reporte(reservas_procesadas)"
   ]
  },
  {
   "cell_type": "code",
   "execution_count": null,
   "id": "29a499e5-6c51-459c-9777-de96fb8cbaac",
   "metadata": {},
   "outputs": [],
   "source": []
  }
 ],
 "metadata": {
  "kernelspec": {
   "display_name": "Python 3 (ipykernel)",
   "language": "python",
   "name": "python3"
  },
  "language_info": {
   "codemirror_mode": {
    "name": "ipython",
    "version": 3
   },
   "file_extension": ".py",
   "mimetype": "text/x-python",
   "name": "python",
   "nbconvert_exporter": "python",
   "pygments_lexer": "ipython3",
   "version": "3.13.5"
  }
 },
 "nbformat": 4,
 "nbformat_minor": 5
}
